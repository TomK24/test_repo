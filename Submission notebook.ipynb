{
 "cells": [
  {
   "cell_type": "code",
   "execution_count": 1,
   "id": "d47cf430",
   "metadata": {},
   "outputs": [],
   "source": [
    "import numpy as np # linear algebra\n",
    "import pandas as pd # data processing, CSV file I/O (e.g. pd.read_csv)\n",
    "import nltk\n",
    "import matplotlib.pyplot as plt\n",
    "%matplotlib inline\n",
    "import seaborn as sns\n",
    "import re\n",
    "import urllib #For webscraping\n",
    "from sklearn.model_selection import train_test_split\n",
    "from sklearn.metrics import f1_score, accuracy_score, precision_score, recall_score, classification_report, confusion_matrix\n",
    "\n",
    "from sklearnex import patch_sklearn #intel patch that supposedly improves performance on intel processors\n",
    "\n",
    "\n",
    "# set plot style\n",
    "sns.set()"
   ]
  },
  {
   "cell_type": "code",
   "execution_count": 2,
   "id": "ae305182",
   "metadata": {},
   "outputs": [
    {
     "data": {
      "text/html": [
       "<div>\n",
       "<style scoped>\n",
       "    .dataframe tbody tr th:only-of-type {\n",
       "        vertical-align: middle;\n",
       "    }\n",
       "\n",
       "    .dataframe tbody tr th {\n",
       "        vertical-align: top;\n",
       "    }\n",
       "\n",
       "    .dataframe thead th {\n",
       "        text-align: right;\n",
       "    }\n",
       "</style>\n",
       "<table border=\"1\" class=\"dataframe\">\n",
       "  <thead>\n",
       "    <tr style=\"text-align: right;\">\n",
       "      <th></th>\n",
       "      <th>lang_id</th>\n",
       "      <th>text</th>\n",
       "    </tr>\n",
       "  </thead>\n",
       "  <tbody>\n",
       "    <tr>\n",
       "      <th>0</th>\n",
       "      <td>xho</td>\n",
       "      <td>umgaqo-siseko wenza amalungiselelo kumaziko ax...</td>\n",
       "    </tr>\n",
       "    <tr>\n",
       "      <th>1</th>\n",
       "      <td>xho</td>\n",
       "      <td>i-dha iya kuba nobulumko bokubeka umsebenzi na...</td>\n",
       "    </tr>\n",
       "    <tr>\n",
       "      <th>2</th>\n",
       "      <td>eng</td>\n",
       "      <td>the province of kwazulu-natal department of tr...</td>\n",
       "    </tr>\n",
       "    <tr>\n",
       "      <th>3</th>\n",
       "      <td>nso</td>\n",
       "      <td>o netefatša gore o ba file dilo ka moka tše le...</td>\n",
       "    </tr>\n",
       "    <tr>\n",
       "      <th>4</th>\n",
       "      <td>ven</td>\n",
       "      <td>khomishini ya ndinganyiso ya mbeu yo ewa maana...</td>\n",
       "    </tr>\n",
       "  </tbody>\n",
       "</table>\n",
       "</div>"
      ],
      "text/plain": [
       "  lang_id                                               text\n",
       "0     xho  umgaqo-siseko wenza amalungiselelo kumaziko ax...\n",
       "1     xho  i-dha iya kuba nobulumko bokubeka umsebenzi na...\n",
       "2     eng  the province of kwazulu-natal department of tr...\n",
       "3     nso  o netefatša gore o ba file dilo ka moka tše le...\n",
       "4     ven  khomishini ya ndinganyiso ya mbeu yo ewa maana..."
      ]
     },
     "execution_count": 2,
     "metadata": {},
     "output_type": "execute_result"
    }
   ],
   "source": [
    "# Read data in and view first few entries\n",
    "df = pd.read_csv('train_set.csv')\n",
    "df.head()"
   ]
  },
  {
   "cell_type": "code",
   "execution_count": 4,
   "id": "b11890ea",
   "metadata": {},
   "outputs": [
    {
     "data": {
      "text/plain": [
       "'umgaqo-siseko wenza amalungiselelo kumaziko axhasa ulawulo lwesininzi kunye nokuthath inxaxheba kwabafazi ezi ziquka phakathi kwezinye zazo ikomishoni yokulingana ngokwesini ikomishoni yamalungelo oluntu lomzantsi afrika'"
      ]
     },
     "execution_count": 4,
     "metadata": {},
     "output_type": "execute_result"
    }
   ],
   "source": [
    "df.iloc[0]['text']"
   ]
  },
  {
   "cell_type": "markdown",
   "id": "0df4a194",
   "metadata": {},
   "source": [
    "Behold, the most perfectly balanced dataset:"
   ]
  },
  {
   "cell_type": "code",
   "execution_count": 8,
   "id": "9e71d322",
   "metadata": {},
   "outputs": [
    {
     "data": {
      "text/html": [
       "<div>\n",
       "<style scoped>\n",
       "    .dataframe tbody tr th:only-of-type {\n",
       "        vertical-align: middle;\n",
       "    }\n",
       "\n",
       "    .dataframe tbody tr th {\n",
       "        vertical-align: top;\n",
       "    }\n",
       "\n",
       "    .dataframe thead th {\n",
       "        text-align: right;\n",
       "    }\n",
       "</style>\n",
       "<table border=\"1\" class=\"dataframe\">\n",
       "  <thead>\n",
       "    <tr style=\"text-align: right;\">\n",
       "      <th></th>\n",
       "      <th>Count</th>\n",
       "      <th>Percentage</th>\n",
       "    </tr>\n",
       "  </thead>\n",
       "  <tbody>\n",
       "    <tr>\n",
       "      <th>xho</th>\n",
       "      <td>3000</td>\n",
       "      <td>0.090909</td>\n",
       "    </tr>\n",
       "    <tr>\n",
       "      <th>eng</th>\n",
       "      <td>3000</td>\n",
       "      <td>0.090909</td>\n",
       "    </tr>\n",
       "    <tr>\n",
       "      <th>nso</th>\n",
       "      <td>3000</td>\n",
       "      <td>0.090909</td>\n",
       "    </tr>\n",
       "    <tr>\n",
       "      <th>ven</th>\n",
       "      <td>3000</td>\n",
       "      <td>0.090909</td>\n",
       "    </tr>\n",
       "    <tr>\n",
       "      <th>tsn</th>\n",
       "      <td>3000</td>\n",
       "      <td>0.090909</td>\n",
       "    </tr>\n",
       "    <tr>\n",
       "      <th>nbl</th>\n",
       "      <td>3000</td>\n",
       "      <td>0.090909</td>\n",
       "    </tr>\n",
       "    <tr>\n",
       "      <th>zul</th>\n",
       "      <td>3000</td>\n",
       "      <td>0.090909</td>\n",
       "    </tr>\n",
       "    <tr>\n",
       "      <th>ssw</th>\n",
       "      <td>3000</td>\n",
       "      <td>0.090909</td>\n",
       "    </tr>\n",
       "    <tr>\n",
       "      <th>tso</th>\n",
       "      <td>3000</td>\n",
       "      <td>0.090909</td>\n",
       "    </tr>\n",
       "    <tr>\n",
       "      <th>sot</th>\n",
       "      <td>3000</td>\n",
       "      <td>0.090909</td>\n",
       "    </tr>\n",
       "    <tr>\n",
       "      <th>afr</th>\n",
       "      <td>3000</td>\n",
       "      <td>0.090909</td>\n",
       "    </tr>\n",
       "  </tbody>\n",
       "</table>\n",
       "</div>"
      ],
      "text/plain": [
       "     Count  Percentage\n",
       "xho   3000    0.090909\n",
       "eng   3000    0.090909\n",
       "nso   3000    0.090909\n",
       "ven   3000    0.090909\n",
       "tsn   3000    0.090909\n",
       "nbl   3000    0.090909\n",
       "zul   3000    0.090909\n",
       "ssw   3000    0.090909\n",
       "tso   3000    0.090909\n",
       "sot   3000    0.090909\n",
       "afr   3000    0.090909"
      ]
     },
     "execution_count": 8,
     "metadata": {},
     "output_type": "execute_result"
    }
   ],
   "source": [
    "lang_counts = df[\"lang_id\"].value_counts()\n",
    "lang_counts.name = \"Count\"\n",
    "percs = df[\"lang_id\"].value_counts(normalize=True) #turns out this normalize parameter converts to %\n",
    "percs.name = \"Percentage\"\n",
    "\n",
    "pd.concat([lang_counts, percs], axis=1)"
   ]
  },
  {
   "cell_type": "markdown",
   "id": "f90c81c8",
   "metadata": {},
   "source": [
    "## Data Engineering\n",
    "\n",
    "---\n",
    "First things first, some pre-processing. Since this is language identification, I will not be removing stop words because stop words might be important in distinguishing between languages. Additionally, I doubt NTLK contains stopwords for all 11 Ofiicial South African languages. What I will be doing is removing all punctuation, standardizing text to remove any non-standard characters and converting all capital letters to lowercase"
   ]
  },
  {
   "cell_type": "code",
   "execution_count": 9,
   "id": "ca94c884",
   "metadata": {},
   "outputs": [],
   "source": [
    "df['text'] = df['text'].str.lower()"
   ]
  },
  {
   "cell_type": "code",
   "execution_count": 10,
   "id": "756cde52",
   "metadata": {},
   "outputs": [],
   "source": [
    "normal_chars = 'abcdefghijklmnopqrstuvwxyz0123456789 '"
   ]
  },
  {
   "cell_type": "code",
   "execution_count": 11,
   "id": "66841953",
   "metadata": {},
   "outputs": [],
   "source": [
    "def remove_weird_chars(post):\n",
    "    return ''.join([l for l in post if l in normal_chars])"
   ]
  },
  {
   "cell_type": "code",
   "execution_count": 12,
   "id": "3378e03f",
   "metadata": {},
   "outputs": [
    {
     "data": {
      "text/plain": [
       "'umgaqosiseko wenza amalungiselelo kumaziko axhasa ulawulo lwesininzi kunye nokuthath inxaxheba kwabafazi ezi ziquka phakathi kwezinye zazo ikomishoni yokulingana ngokwesini ikomishoni yamalungelo oluntu lomzantsi afrika'"
      ]
     },
     "execution_count": 12,
     "metadata": {},
     "output_type": "execute_result"
    }
   ],
   "source": [
    "df['text'] = df['text'].apply(remove_weird_chars)\n",
    "df['text'].iloc[0]"
   ]
  },
  {
   "cell_type": "markdown",
   "id": "222a346a",
   "metadata": {},
   "source": [
    "Time to create features and label dataset"
   ]
  },
  {
   "cell_type": "code",
   "execution_count": 13,
   "id": "5e1adff4",
   "metadata": {},
   "outputs": [],
   "source": [
    "X = df[\"text\"]\n",
    "y = df[\"lang_id\"]"
   ]
  },
  {
   "cell_type": "markdown",
   "id": "da6a76f5",
   "metadata": {},
   "source": [
    "Once data engineering is done, the next step is to do a train-test split. This must be done before any model training so that a portion of the data remains unseen by the model. This unseen test data can then be reliably used to determine the model's performance after training"
   ]
  },
  {
   "cell_type": "code",
   "execution_count": 14,
   "id": "b94cc360",
   "metadata": {},
   "outputs": [],
   "source": [
    "X_train, X_test, y_train, y_test = train_test_split(X, y, test_size=0.25, random_state=42)"
   ]
  },
  {
   "cell_type": "markdown",
   "id": "1668e8de",
   "metadata": {},
   "source": [
    "Using SKlearns TF-IDF vectorizer. It is a bag-of-words approach which counts the occurances of words in the corpus for each document. The twist here is that instead of tokenizing on words, I am tokenizing using characters, with character ngrams having a length of between 4 and 6. Tokenizing based on characters has has resulted in improved F1 scores for the model I have trained. It does however drastically increase the time required for vectorization and model training due to the sheer number of ngrams produced. "
   ]
  },
  {
   "cell_type": "code",
   "execution_count": 15,
   "id": "159670cb",
   "metadata": {},
   "outputs": [],
   "source": [
    "from sklearn.feature_extraction.text import TfidfVectorizer\n",
    "\n",
    "from sklearn import metrics\n",
    "from sklearn.metrics import classification_report, confusion_matrix, f1_score, precision_score, recall_score"
   ]
  },
  {
   "cell_type": "markdown",
   "id": "7e65ffe2",
   "metadata": {},
   "source": [
    "Fitting and transforming the vector using the training dataset. This takes a while, and creates a sparse matrix with over 300 000 columns! Thankfully sparse matrices are more memory-efficient that ndarrays. "
   ]
  },
  {
   "cell_type": "code",
   "execution_count": 16,
   "id": "b75f2d1f",
   "metadata": {},
   "outputs": [
    {
     "data": {
      "text/plain": [
       "<24750x316517 sparse matrix of type '<class 'numpy.float64'>'\n",
       "\twith 13914086 stored elements in Compressed Sparse Row format>"
      ]
     },
     "execution_count": 16,
     "metadata": {},
     "output_type": "execute_result"
    }
   ],
   "source": [
    "vect = TfidfVectorizer(min_df=5, max_df=0.1, analyzer='char', ngram_range=(4,6), stop_words=None)\n",
    "vect.fit_transform(X_train)"
   ]
  },
  {
   "cell_type": "markdown",
   "id": "534d1fcd",
   "metadata": {},
   "source": [
    "Simple Grid search to determine what the best alpha parameter is for the Complement Naive Bayes model I'll be training. Only one parameter, alpha which is the smoothing parameter. I chose complememt Naive Bayes over standard multinomial Naive Bayes because it produced better results in our predict project and according to the sklearn documentation it generally produces better performing models, at least according to the inventers of the model: \n",
    "\n",
    "--Rennie, J. D., Shih, L., Teevan, J., & Karger, D. R. (2003). Tackling the poor assumptions of naive bayes text classifiers. In ICML (Vol. 3, pp. 616-623)."
   ]
  },
  {
   "cell_type": "code",
   "execution_count": 17,
   "id": "cd80be47",
   "metadata": {},
   "outputs": [],
   "source": [
    "from sklearn.model_selection import GridSearchCV"
   ]
  },
  {
   "cell_type": "code",
   "execution_count": 18,
   "id": "eb6fcf54",
   "metadata": {},
   "outputs": [],
   "source": [
    "from sklearn.naive_bayes import ComplementNB"
   ]
  },
  {
   "cell_type": "code",
   "execution_count": 19,
   "id": "d161a68c",
   "metadata": {},
   "outputs": [],
   "source": [
    "param_grid = {'alpha': [0.1,0.25,0.5,0.75,1,1.25,1.5,1.75,2,3,4,5,6,7,8,9,10]}"
   ]
  },
  {
   "cell_type": "code",
   "execution_count": 20,
   "id": "251240db",
   "metadata": {},
   "outputs": [],
   "source": [
    "grid_CNB = GridSearchCV(ComplementNB(), param_grid, scoring='neg_log_loss')"
   ]
  },
  {
   "cell_type": "markdown",
   "id": "a3d6ea34",
   "metadata": {},
   "source": [
    "This cell takes a minute or two to run.."
   ]
  },
  {
   "cell_type": "code",
   "execution_count": 21,
   "id": "a787badb",
   "metadata": {},
   "outputs": [
    {
     "data": {
      "text/plain": [
       "{'alpha': 0.1}"
      ]
     },
     "execution_count": 21,
     "metadata": {},
     "output_type": "execute_result"
    }
   ],
   "source": [
    "grid_CNB.fit(vect.transform(X_train), y_train)\n",
    "grid_CNB.best_params_"
   ]
  },
  {
   "cell_type": "markdown",
   "id": "4ec42b0b",
   "metadata": {},
   "source": [
    "Best value for the alpha parameter is 0.1, not 1 which is the default value. Training model now.."
   ]
  },
  {
   "cell_type": "code",
   "execution_count": 24,
   "id": "ac0206f4",
   "metadata": {},
   "outputs": [],
   "source": [
    "nb = ComplementNB(alpha=0.1)"
   ]
  },
  {
   "cell_type": "markdown",
   "id": "3e6e4400",
   "metadata": {},
   "source": [
    "this patch_learn module is provided by intel and it supposedly improves the performance of the Sklearn module on computers with intel processors. Haven't noticed a speed-up but it produces the same model regardless."
   ]
  },
  {
   "cell_type": "code",
   "execution_count": 23,
   "id": "7e6acbff",
   "metadata": {},
   "outputs": [
    {
     "name": "stderr",
     "output_type": "stream",
     "text": [
      "Intel(R) Extension for Scikit-learn* enabled (https://github.com/intel/scikit-learn-intelex)\n"
     ]
    }
   ],
   "source": [
    "patch_sklearn()\n",
    "nb.fit(vect.transform(X_train), y_train)\n",
    "y_pred = nb.predict(vect.transform(X_test))"
   ]
  },
  {
   "cell_type": "markdown",
   "id": "dc359acd",
   "metadata": {},
   "source": [
    "As shwon by the F-1 scores for each class and the weighted average F-1 score. Our model had performed very well. All precision and recall metrics are similarly either very close to 1 or 1 exactly. We can conclude from this that our model has no difficult indentifying any of the 11 classes"
   ]
  },
  {
   "cell_type": "code",
   "execution_count": 25,
   "id": "4044767d",
   "metadata": {},
   "outputs": [
    {
     "name": "stdout",
     "output_type": "stream",
     "text": [
      "              precision    recall  f1-score   support\n",
      "\n",
      "         afr    0.99735   1.00000   0.99868       754\n",
      "         eng    0.99478   1.00000   0.99738       762\n",
      "         nbl    1.00000   0.99864   0.99932       734\n",
      "         nso    1.00000   0.99872   0.99936       782\n",
      "         sot    0.99868   1.00000   0.99934       759\n",
      "         ssw    1.00000   0.99863   0.99932       732\n",
      "         tsn    1.00000   0.99598   0.99799       746\n",
      "         tso    1.00000   1.00000   1.00000       700\n",
      "         ven    1.00000   1.00000   1.00000       785\n",
      "         xho    1.00000   1.00000   1.00000       761\n",
      "         zul    1.00000   0.99864   0.99932       735\n",
      "\n",
      "    accuracy                        0.99915      8250\n",
      "   macro avg    0.99917   0.99915   0.99915      8250\n",
      "weighted avg    0.99915   0.99915   0.99915      8250\n",
      "\n"
     ]
    }
   ],
   "source": [
    "print(metrics.classification_report(y_test, y_pred, digits=5))"
   ]
  },
  {
   "cell_type": "code",
   "execution_count": 26,
   "id": "eaf34fb7",
   "metadata": {},
   "outputs": [],
   "source": [
    "cm = confusion_matrix(y_test, y_pred)"
   ]
  },
  {
   "cell_type": "code",
   "execution_count": 27,
   "id": "b70d568a",
   "metadata": {},
   "outputs": [
    {
     "name": "stdout",
     "output_type": "stream",
     "text": [
      "['afr', 'eng', 'nbl', 'nso', 'sot', 'ssw', 'tsn', 'tso', 'ven', 'xho', 'zul']\n"
     ]
    }
   ],
   "source": [
    "labels = df['lang_id'].unique()\n",
    "labels = list(labels)\n",
    "labels.sort()\n",
    "#labels = []\n",
    "print(labels)"
   ]
  },
  {
   "cell_type": "code",
   "execution_count": 28,
   "id": "d303f59e",
   "metadata": {},
   "outputs": [
    {
     "data": {
      "text/html": [
       "<div>\n",
       "<style scoped>\n",
       "    .dataframe tbody tr th:only-of-type {\n",
       "        vertical-align: middle;\n",
       "    }\n",
       "\n",
       "    .dataframe tbody tr th {\n",
       "        vertical-align: top;\n",
       "    }\n",
       "\n",
       "    .dataframe thead th {\n",
       "        text-align: right;\n",
       "    }\n",
       "</style>\n",
       "<table border=\"1\" class=\"dataframe\">\n",
       "  <thead>\n",
       "    <tr style=\"text-align: right;\">\n",
       "      <th></th>\n",
       "      <th>afr</th>\n",
       "      <th>eng</th>\n",
       "      <th>nbl</th>\n",
       "      <th>nso</th>\n",
       "      <th>sot</th>\n",
       "      <th>ssw</th>\n",
       "      <th>tsn</th>\n",
       "      <th>tso</th>\n",
       "      <th>ven</th>\n",
       "      <th>xho</th>\n",
       "      <th>zul</th>\n",
       "    </tr>\n",
       "  </thead>\n",
       "  <tbody>\n",
       "    <tr>\n",
       "      <th>afr</th>\n",
       "      <td>754</td>\n",
       "      <td>0</td>\n",
       "      <td>0</td>\n",
       "      <td>0</td>\n",
       "      <td>0</td>\n",
       "      <td>0</td>\n",
       "      <td>0</td>\n",
       "      <td>0</td>\n",
       "      <td>0</td>\n",
       "      <td>0</td>\n",
       "      <td>0</td>\n",
       "    </tr>\n",
       "    <tr>\n",
       "      <th>eng</th>\n",
       "      <td>0</td>\n",
       "      <td>762</td>\n",
       "      <td>0</td>\n",
       "      <td>0</td>\n",
       "      <td>0</td>\n",
       "      <td>0</td>\n",
       "      <td>0</td>\n",
       "      <td>0</td>\n",
       "      <td>0</td>\n",
       "      <td>0</td>\n",
       "      <td>0</td>\n",
       "    </tr>\n",
       "    <tr>\n",
       "      <th>nbl</th>\n",
       "      <td>1</td>\n",
       "      <td>0</td>\n",
       "      <td>733</td>\n",
       "      <td>0</td>\n",
       "      <td>0</td>\n",
       "      <td>0</td>\n",
       "      <td>0</td>\n",
       "      <td>0</td>\n",
       "      <td>0</td>\n",
       "      <td>0</td>\n",
       "      <td>0</td>\n",
       "    </tr>\n",
       "    <tr>\n",
       "      <th>nso</th>\n",
       "      <td>0</td>\n",
       "      <td>0</td>\n",
       "      <td>0</td>\n",
       "      <td>781</td>\n",
       "      <td>1</td>\n",
       "      <td>0</td>\n",
       "      <td>0</td>\n",
       "      <td>0</td>\n",
       "      <td>0</td>\n",
       "      <td>0</td>\n",
       "      <td>0</td>\n",
       "    </tr>\n",
       "    <tr>\n",
       "      <th>sot</th>\n",
       "      <td>0</td>\n",
       "      <td>0</td>\n",
       "      <td>0</td>\n",
       "      <td>0</td>\n",
       "      <td>759</td>\n",
       "      <td>0</td>\n",
       "      <td>0</td>\n",
       "      <td>0</td>\n",
       "      <td>0</td>\n",
       "      <td>0</td>\n",
       "      <td>0</td>\n",
       "    </tr>\n",
       "    <tr>\n",
       "      <th>ssw</th>\n",
       "      <td>0</td>\n",
       "      <td>1</td>\n",
       "      <td>0</td>\n",
       "      <td>0</td>\n",
       "      <td>0</td>\n",
       "      <td>731</td>\n",
       "      <td>0</td>\n",
       "      <td>0</td>\n",
       "      <td>0</td>\n",
       "      <td>0</td>\n",
       "      <td>0</td>\n",
       "    </tr>\n",
       "    <tr>\n",
       "      <th>tsn</th>\n",
       "      <td>1</td>\n",
       "      <td>2</td>\n",
       "      <td>0</td>\n",
       "      <td>0</td>\n",
       "      <td>0</td>\n",
       "      <td>0</td>\n",
       "      <td>743</td>\n",
       "      <td>0</td>\n",
       "      <td>0</td>\n",
       "      <td>0</td>\n",
       "      <td>0</td>\n",
       "    </tr>\n",
       "    <tr>\n",
       "      <th>tso</th>\n",
       "      <td>0</td>\n",
       "      <td>0</td>\n",
       "      <td>0</td>\n",
       "      <td>0</td>\n",
       "      <td>0</td>\n",
       "      <td>0</td>\n",
       "      <td>0</td>\n",
       "      <td>700</td>\n",
       "      <td>0</td>\n",
       "      <td>0</td>\n",
       "      <td>0</td>\n",
       "    </tr>\n",
       "    <tr>\n",
       "      <th>ven</th>\n",
       "      <td>0</td>\n",
       "      <td>0</td>\n",
       "      <td>0</td>\n",
       "      <td>0</td>\n",
       "      <td>0</td>\n",
       "      <td>0</td>\n",
       "      <td>0</td>\n",
       "      <td>0</td>\n",
       "      <td>785</td>\n",
       "      <td>0</td>\n",
       "      <td>0</td>\n",
       "    </tr>\n",
       "    <tr>\n",
       "      <th>xho</th>\n",
       "      <td>0</td>\n",
       "      <td>0</td>\n",
       "      <td>0</td>\n",
       "      <td>0</td>\n",
       "      <td>0</td>\n",
       "      <td>0</td>\n",
       "      <td>0</td>\n",
       "      <td>0</td>\n",
       "      <td>0</td>\n",
       "      <td>761</td>\n",
       "      <td>0</td>\n",
       "    </tr>\n",
       "    <tr>\n",
       "      <th>zul</th>\n",
       "      <td>0</td>\n",
       "      <td>1</td>\n",
       "      <td>0</td>\n",
       "      <td>0</td>\n",
       "      <td>0</td>\n",
       "      <td>0</td>\n",
       "      <td>0</td>\n",
       "      <td>0</td>\n",
       "      <td>0</td>\n",
       "      <td>0</td>\n",
       "      <td>734</td>\n",
       "    </tr>\n",
       "  </tbody>\n",
       "</table>\n",
       "</div>"
      ],
      "text/plain": [
       "     afr  eng  nbl  nso  sot  ssw  tsn  tso  ven  xho  zul\n",
       "afr  754    0    0    0    0    0    0    0    0    0    0\n",
       "eng    0  762    0    0    0    0    0    0    0    0    0\n",
       "nbl    1    0  733    0    0    0    0    0    0    0    0\n",
       "nso    0    0    0  781    1    0    0    0    0    0    0\n",
       "sot    0    0    0    0  759    0    0    0    0    0    0\n",
       "ssw    0    1    0    0    0  731    0    0    0    0    0\n",
       "tsn    1    2    0    0    0    0  743    0    0    0    0\n",
       "tso    0    0    0    0    0    0    0  700    0    0    0\n",
       "ven    0    0    0    0    0    0    0    0  785    0    0\n",
       "xho    0    0    0    0    0    0    0    0    0  761    0\n",
       "zul    0    1    0    0    0    0    0    0    0    0  734"
      ]
     },
     "execution_count": 28,
     "metadata": {},
     "output_type": "execute_result"
    }
   ],
   "source": [
    "cm = pd.DataFrame(data=confusion_matrix(y_test, y_pred), index=labels, columns=labels)\n",
    "cm"
   ]
  },
  {
   "cell_type": "code",
   "execution_count": 149,
   "id": "c819d426",
   "metadata": {},
   "outputs": [],
   "source": [
    "cm = cm.to_numpy()\n",
    "cm_perc = cm/cm.sum(axis=1).reshape(-1, 1)"
   ]
  },
  {
   "cell_type": "markdown",
   "id": "58169ba0",
   "metadata": {},
   "source": [
    "There are only 6 documents in the test dataset that are incorrectly labeled by the model:"
   ]
  },
  {
   "cell_type": "code",
   "execution_count": 150,
   "id": "0e105027",
   "metadata": {},
   "outputs": [
    {
     "data": {
      "text/plain": [
       "Text(0.5, 1.0, 'Confusion Matrix')"
      ]
     },
     "execution_count": 150,
     "metadata": {},
     "output_type": "execute_result"
    },
    {
     "data": {
      "image/png": "[encoded data removed]",
      "text/plain": [
       "<Figure size 864x720 with 2 Axes>"
      ]
     },
     "metadata": {},
     "output_type": "display_data"
    }
   ],
   "source": [
    "plt.figure(figsize=(12, 10))\n",
    "sns.heatmap(cm, annot=True, cmap='Blues', fmt='.0f', xticklabels=labels, yticklabels=labels)\n",
    "plt.ylabel(\"True labels\")\n",
    "plt.xlabel(\"Predicted labels\")\n",
    "plt.title(\"Confusion Matrix\")\n",
    "# plt.set_xticklabels(labels)\n",
    "#plt.savefig('Confusion matrix.png', format='png', dpi=300, bbox_inches='tight')"
   ]
  },
  {
   "cell_type": "markdown",
   "id": "3660c4d8",
   "metadata": {},
   "source": [
    "Loading Kaggle dataset, doing pre-processing and making a csv file"
   ]
  },
  {
   "cell_type": "code",
   "execution_count": 151,
   "id": "a0b933e3",
   "metadata": {},
   "outputs": [
    {
     "data": {
      "text/html": [
       "<div>\n",
       "<style scoped>\n",
       "    .dataframe tbody tr th:only-of-type {\n",
       "        vertical-align: middle;\n",
       "    }\n",
       "\n",
       "    .dataframe tbody tr th {\n",
       "        vertical-align: top;\n",
       "    }\n",
       "\n",
       "    .dataframe thead th {\n",
       "        text-align: right;\n",
       "    }\n",
       "</style>\n",
       "<table border=\"1\" class=\"dataframe\">\n",
       "  <thead>\n",
       "    <tr style=\"text-align: right;\">\n",
       "      <th></th>\n",
       "      <th>index</th>\n",
       "      <th>text</th>\n",
       "    </tr>\n",
       "  </thead>\n",
       "  <tbody>\n",
       "    <tr>\n",
       "      <th>0</th>\n",
       "      <td>1</td>\n",
       "      <td>Mmasepala, fa maemo a a kgethegileng a letlele...</td>\n",
       "    </tr>\n",
       "    <tr>\n",
       "      <th>1</th>\n",
       "      <td>2</td>\n",
       "      <td>Uzakwaziswa ngokufaneleko nakungafuneka eminye...</td>\n",
       "    </tr>\n",
       "    <tr>\n",
       "      <th>2</th>\n",
       "      <td>3</td>\n",
       "      <td>Tshivhumbeo tshi fana na ngano dza vhathu.</td>\n",
       "    </tr>\n",
       "    <tr>\n",
       "      <th>3</th>\n",
       "      <td>4</td>\n",
       "      <td>Kube inja nelikati betingevakala kutsi titsini...</td>\n",
       "    </tr>\n",
       "    <tr>\n",
       "      <th>4</th>\n",
       "      <td>5</td>\n",
       "      <td>Winste op buitelandse valuta.</td>\n",
       "    </tr>\n",
       "  </tbody>\n",
       "</table>\n",
       "</div>"
      ],
      "text/plain": [
       "   index                                               text\n",
       "0      1  Mmasepala, fa maemo a a kgethegileng a letlele...\n",
       "1      2  Uzakwaziswa ngokufaneleko nakungafuneka eminye...\n",
       "2      3         Tshivhumbeo tshi fana na ngano dza vhathu.\n",
       "3      4  Kube inja nelikati betingevakala kutsi titsini...\n",
       "4      5                      Winste op buitelandse valuta."
      ]
     },
     "execution_count": 151,
     "metadata": {},
     "output_type": "execute_result"
    }
   ],
   "source": [
    "# Read data in and view first few entries\n",
    "df_test = pd.read_csv('test_set.csv')\n",
    "df_test.head()"
   ]
  },
  {
   "cell_type": "code",
   "execution_count": 152,
   "id": "fde1c0bf",
   "metadata": {},
   "outputs": [],
   "source": [
    "df_test['text'] = df_test['text'].str.lower()"
   ]
  },
  {
   "cell_type": "code",
   "execution_count": 153,
   "id": "46517b01",
   "metadata": {},
   "outputs": [
    {
     "data": {
      "text/plain": [
       "'mmasepala fa maemo a a kgethegileng a letlelela kgato eo'"
      ]
     },
     "execution_count": 153,
     "metadata": {},
     "output_type": "execute_result"
    }
   ],
   "source": [
    "df_test['text'] = df_test['text'].apply(remove_weird_chars)\n",
    "df_test['text'].iloc[0]"
   ]
  },
  {
   "cell_type": "code",
   "execution_count": 154,
   "id": "1dfe66b7",
   "metadata": {},
   "outputs": [],
   "source": [
    "X_Kaggle = df_test['text']"
   ]
  },
  {
   "cell_type": "code",
   "execution_count": 155,
   "id": "5df31fb4",
   "metadata": {},
   "outputs": [
    {
     "data": {
      "text/plain": [
       "(5682,)"
      ]
     },
     "execution_count": 155,
     "metadata": {},
     "output_type": "execute_result"
    }
   ],
   "source": [
    "X_Kaggle.shape"
   ]
  },
  {
   "cell_type": "code",
   "execution_count": 156,
   "id": "ffd92a67",
   "metadata": {},
   "outputs": [],
   "source": [
    "kaggle_pred = nb.predict(vect.transform(X_Kaggle))"
   ]
  },
  {
   "cell_type": "code",
   "execution_count": 157,
   "id": "5a82b5ff",
   "metadata": {},
   "outputs": [
    {
     "data": {
      "text/plain": [
       "array(['tsn', 'nbl', 'ven', ..., 'sot', 'sot', 'nbl'], dtype='<U3')"
      ]
     },
     "execution_count": 157,
     "metadata": {},
     "output_type": "execute_result"
    }
   ],
   "source": [
    "kaggle_pred"
   ]
  },
  {
   "cell_type": "code",
   "execution_count": 158,
   "id": "246e068c",
   "metadata": {},
   "outputs": [
    {
     "data": {
      "text/html": [
       "<div>\n",
       "<style scoped>\n",
       "    .dataframe tbody tr th:only-of-type {\n",
       "        vertical-align: middle;\n",
       "    }\n",
       "\n",
       "    .dataframe tbody tr th {\n",
       "        vertical-align: top;\n",
       "    }\n",
       "\n",
       "    .dataframe thead th {\n",
       "        text-align: right;\n",
       "    }\n",
       "</style>\n",
       "<table border=\"1\" class=\"dataframe\">\n",
       "  <thead>\n",
       "    <tr style=\"text-align: right;\">\n",
       "      <th></th>\n",
       "      <th>lang_id</th>\n",
       "    </tr>\n",
       "    <tr>\n",
       "      <th>index</th>\n",
       "      <th></th>\n",
       "    </tr>\n",
       "  </thead>\n",
       "  <tbody>\n",
       "    <tr>\n",
       "      <th>1</th>\n",
       "      <td>tsn</td>\n",
       "    </tr>\n",
       "    <tr>\n",
       "      <th>2</th>\n",
       "      <td>nbl</td>\n",
       "    </tr>\n",
       "    <tr>\n",
       "      <th>3</th>\n",
       "      <td>ven</td>\n",
       "    </tr>\n",
       "    <tr>\n",
       "      <th>4</th>\n",
       "      <td>ssw</td>\n",
       "    </tr>\n",
       "    <tr>\n",
       "      <th>5</th>\n",
       "      <td>afr</td>\n",
       "    </tr>\n",
       "  </tbody>\n",
       "</table>\n",
       "</div>"
      ],
      "text/plain": [
       "      lang_id\n",
       "index        \n",
       "1         tsn\n",
       "2         nbl\n",
       "3         ven\n",
       "4         ssw\n",
       "5         afr"
      ]
     },
     "execution_count": 158,
     "metadata": {},
     "output_type": "execute_result"
    }
   ],
   "source": [
    "pred_df = pd.DataFrame(data=df_test['index'], columns=['index'])\n",
    "\n",
    "pred_df.insert(1, 'lang_id', kaggle_pred, allow_duplicates=False)\n",
    "pred_df = pred_df.set_index('index')\n",
    "pred_df.head()"
   ]
  },
  {
   "cell_type": "code",
   "execution_count": 141,
   "id": "0119571b",
   "metadata": {},
   "outputs": [],
   "source": [
    "pred_df.to_csv(path_or_buf='MNB_alpha0.1_TFIDFcharngrams4,6mindf5maxdf0.1.csv', index=True)"
   ]
  },
  {
   "cell_type": "code",
   "execution_count": null,
   "id": "a39c9fa5",
   "metadata": {},
   "outputs": [],
   "source": []
  }
 ],
 "metadata": {
  "kernelspec": {
   "display_name": "Python 3 (ipykernel)",
   "language": "python",
   "name": "python3"
  },
  "language_info": {
   "codemirror_mode": {
    "name": "ipython",
    "version": 3
   },
   "file_extension": ".py",
   "mimetype": "text/x-python",
   "name": "python",
   "nbconvert_exporter": "python",
   "pygments_lexer": "ipython3",
   "version": "3.8.12"
  }
 },
 "nbformat": 4,
 "nbformat_minor": 5
}
